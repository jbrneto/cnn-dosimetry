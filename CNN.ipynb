{
 "cells": [
  {
   "cell_type": "code",
   "execution_count": 1,
   "id": "8f908a5e-a8fd-41ad-9127-b3cc167c04c3",
   "metadata": {},
   "outputs": [],
   "source": [
    "%load_ext autoreload\n",
    "%autoreload 2"
   ]
  },
  {
   "cell_type": "markdown",
   "id": "3750dee4-4558-40cd-90a5-186a11b9cdf9",
   "metadata": {
    "tags": []
   },
   "source": [
    "# Visualization"
   ]
  },
  {
   "cell_type": "code",
   "execution_count": 2,
   "id": "745cd6bf-a577-465a-99ea-81bf78f2e854",
   "metadata": {},
   "outputs": [],
   "source": [
    "import numpy as np\n",
    "import matplotlib.pyplot as plt\n",
    "from ipywidgets import interact, fixed, TwoByTwoLayout\n",
    "from data import InstanceLoader"
   ]
  },
  {
   "cell_type": "code",
   "execution_count": 3,
   "id": "30247e5e-4412-4476-8876-85a3ed1782f5",
   "metadata": {},
   "outputs": [],
   "source": [
    "def maskImg(img, threshold):\n",
    "    mask = img.copy()\n",
    "    mask[mask <= threshold] = np.nan\n",
    "    return mask\n",
    "\n",
    "def f(x, ct, oar, ptv, dose, dose_threshold=0):\n",
    "    fig, axarr = plt.subplots(1,1, figsize=(15, 8))\n",
    "    \n",
    "    if ct is not None and x < ct.shape[-1]:\n",
    "        axarr.imshow(ct[:,:,x], cmap='viridis', interpolation='None')\n",
    "    if oar is not None and x < oar.shape[-1]:\n",
    "        axarr.imshow(maskImg(oar[:,:,x], 0), alpha=0.5, cmap='spring', interpolation='None')\n",
    "    if ptv is not None and x < ptv.shape[-1]:\n",
    "        axarr.imshow(maskImg(ptv[:,:,x], 0), alpha=0.8, cmap='bone', interpolation='None')\n",
    "    if dose is not None and x < dose.shape[-1]:\n",
    "        axarr.imshow(maskImg(dose[:,:,x], dose_threshold), alpha=0.5, cmap='hot', interpolation='None')\n",
    "\n",
    "    plt.show()\n",
    "\n",
    "def f2(x, ct, oar, ptv, dose, ct2, oar2, ptv2, dose2, dose_threshold=0, dose_threshold2=0):\n",
    "    fig, axarr = plt.subplots(1,2, figsize=(15, 8))\n",
    "    \n",
    "    if ct is not None and x < ct.shape[-1]:\n",
    "        axarr[0].imshow(ct[:,:,x], cmap='viridis', interpolation='None')\n",
    "    if oar is not None and x < oar.shape[-1]:\n",
    "        axarr[0].imshow(maskImg(oar[:,:,x], 0), alpha=0.5, cmap='spring', interpolation='None')\n",
    "    if ptv is not None and x < ptv.shape[-1]:\n",
    "        axarr[0].imshow(maskImg(ptv[:,:,x], 0), alpha=0.8, cmap='bone', interpolation='None')\n",
    "    if dose is not None and x < dose.shape[-1]:\n",
    "        axarr[0].imshow(maskImg(dose[:,:,x], dose_threshold), alpha=0.5, cmap='hot', interpolation='None')\n",
    "\n",
    "    if ct2 is not None and x < ct2.shape[-1]:\n",
    "        axarr[1].imshow(ct2[:,:,x], cmap='viridis', interpolation='None')\n",
    "    if oar2 is not None and x < oar2.shape[-1]:\n",
    "        axarr[1].imshow(maskImg(oar2[:,:,x], 0), alpha=0.5, cmap='spring', interpolation='None')\n",
    "    if ptv2 is not None and x < ptv2.shape[-1]:\n",
    "        axarr[1].imshow(maskImg(ptv2[:,:,x], 0), alpha=0.8, cmap='bone', interpolation='None')\n",
    "    if dose2 is not None and x < dose2.shape[-1]:\n",
    "        axarr[1].imshow(maskImg(dose2[:,:,x], dose_threshold2), alpha=0.5, cmap='hot', interpolation='None')\n",
    "        \n",
    "    plt.show()"
   ]
  },
  {
   "cell_type": "markdown",
   "id": "19f38ba0-e494-492a-9fb2-5ef4abba8819",
   "metadata": {},
   "source": [
    "## Viz"
   ]
  },
  {
   "cell_type": "code",
   "execution_count": 23,
   "id": "aa72424f-3214-42de-bde7-2a4508b9e2ec",
   "metadata": {},
   "outputs": [
    {
     "name": "stdout",
     "output_type": "stream",
     "text": [
      "Instance size: 20\n",
      "Train size: 16\n",
      "Test size: 4\n"
     ]
    }
   ],
   "source": [
    "out_dir = 'C:/Users/joao/Desktop/tese/datasets/Pancreatic/Pancreatic-Preprocessed'\n",
    "viz_instance_loader = InstanceLoader(out_dir,batch_size=1)\n",
    "batch = viz_instance_loader.getCase(1)"
   ]
  },
  {
   "cell_type": "code",
   "execution_count": 16,
   "id": "24dbfc43-5ea1-4e68-ade0-a14622391c07",
   "metadata": {},
   "outputs": [
    {
     "data": {
      "text/plain": [
       "True"
      ]
     },
     "execution_count": 16,
     "metadata": {},
     "output_type": "execute_result"
    }
   ],
   "source": [
    "dose.any()"
   ]
  },
  {
   "cell_type": "code",
   "execution_count": 24,
   "id": "c152ccbb-1349-44f2-a9f5-ee17ad7d7f7b",
   "metadata": {},
   "outputs": [
    {
     "data": {
      "application/vnd.jupyter.widget-view+json": {
       "model_id": "fd08e07e350b4b89a334a0a9d739e736",
       "version_major": 2,
       "version_minor": 0
      },
      "text/plain": [
       "interactive(children=(IntSlider(value=228, description='x', max=456), Output()), _dom_classes=('widget-interac…"
      ]
     },
     "metadata": {},
     "output_type": "display_data"
    },
    {
     "data": {
      "text/plain": [
       "<function __main__.f(x, ct, oar, ptv, dose, dose_threshold=0)>"
      ]
     },
     "execution_count": 24,
     "metadata": {},
     "output_type": "execute_result"
    }
   ],
   "source": [
    "image = batch['CT']\n",
    "struct = batch['PTV']\n",
    "oar = batch['OAR']\n",
    "dose = batch['DOSE']\n",
    "biggest = np.max([image.shape[-1], struct.shape[-1], oar.shape[-1], dose.shape[-1]])\n",
    "interact(f, x=(0, biggest-1), ct=fixed(image), oar=fixed(oar), ptv=fixed(struct), dose=fixed(dose), dose_threshold=fixed(0.5))"
   ]
  },
  {
   "cell_type": "markdown",
   "id": "8b5dbcc2-795a-4f69-9ed1-5165a740fd60",
   "metadata": {},
   "source": [
    "## Preprocessing"
   ]
  },
  {
   "cell_type": "code",
   "execution_count": 7,
   "id": "a8ac65a7-8518-4b63-9b35-f91a92a66160",
   "metadata": {},
   "outputs": [],
   "source": [
    "import data"
   ]
  },
  {
   "cell_type": "code",
   "execution_count": 15,
   "id": "81162f61-9bb9-4cb5-bfb5-190d2cf7bc3e",
   "metadata": {},
   "outputs": [],
   "source": [
    "ct = 'C:/Users/joao/Desktop/tese/datasets/Pancreatic/Pancreatic-CT-CBCT-SEG/Pancreas-CT-CB_001/07-06-2012-NA-PANCREAS-59677/201.000000-PANCREAS DI iDose 3-97846'\n",
    "ct2 = 'C:/Users/joao/Desktop/tese/datasets/Pancreatic/Pancreatic-CT-CBCT-SEG/Pancreas-CT-CB_001/07-06-2012-NA-PANCREAS-59677/56094.000000-Aligned resampled CB02-39781'\n",
    "dose = 'C:/Users/joao/Desktop/tese/datasets/Pancreatic/Pancreatic-CT-CBCT-SEG/Pancreas-CT-CB_001/07-06-2012-NA-PANCREAS-59677/321.000000-Eclipse Doses-94184'\n",
    "cts = data.read_dicoms(ct)\n",
    "cts2 = data.read_dicoms(ct2)\n",
    "doses = data.read_dicoms(dose)"
   ]
  },
  {
   "cell_type": "code",
   "execution_count": 16,
   "id": "eb5e2c6a-6096-4e91-8a4b-a8de99b0d0e0",
   "metadata": {},
   "outputs": [
    {
     "name": "stdout",
     "output_type": "stream",
     "text": [
      "(512, 512, 134) (512, 512, 134) (226, 384, 269)\n"
     ]
    }
   ],
   "source": [
    "print(cts.shape, cts2.shape, doses.shape)"
   ]
  },
  {
   "cell_type": "code",
   "execution_count": null,
   "id": "42440514-1cfa-415b-872b-00a2a64b9139",
   "metadata": {},
   "outputs": [],
   "source": [
    "biggest = np.max([cts.shape[-1], doses.shape[-1]])\n",
    "interact(f, x=(0, biggest-1), ct=fixed(cts), oar=fixed(None), ptv=fixed(None), dose=fixed(doses), dose_threshold=fixed(0))"
   ]
  },
  {
   "cell_type": "code",
   "execution_count": 19,
   "id": "7a8d81a8-bde5-4c20-9fec-30d04ab39337",
   "metadata": {},
   "outputs": [],
   "source": [
    "filep = np.load('C:/Users/joao/Desktop/tese/datasets/Pancreatic/Pancreatic-Preprocessed2/case0.npz')"
   ]
  },
  {
   "cell_type": "code",
   "execution_count": 20,
   "id": "d3f7c287-ae49-4ba9-b7bd-a45deff751d3",
   "metadata": {},
   "outputs": [],
   "source": [
    "image = filep['CT']\n",
    "dose = filep['DOSE']"
   ]
  },
  {
   "cell_type": "code",
   "execution_count": 22,
   "id": "ae4c7533-c372-49bc-acc6-de91b8a4a3b0",
   "metadata": {},
   "outputs": [
    {
     "data": {
      "application/vnd.jupyter.widget-view+json": {
       "model_id": "477709323a9d48f88278a77935176ad5",
       "version_major": 2,
       "version_minor": 0
      },
      "text/plain": [
       "interactive(children=(IntSlider(value=134, description='x', max=268), Output()), _dom_classes=('widget-interac…"
      ]
     },
     "metadata": {},
     "output_type": "display_data"
    },
    {
     "data": {
      "text/plain": [
       "<function __main__.f(x, ct, oar, ptv, dose, dose_threshold=0)>"
      ]
     },
     "execution_count": 22,
     "metadata": {},
     "output_type": "execute_result"
    }
   ],
   "source": [
    "biggest = np.max([image.shape[-1], dose.shape[-1]])\n",
    "interact(f, x=(0, biggest-1), ct=fixed(image), oar=fixed(None), ptv=fixed(None), dose=fixed(dose), dose_threshold=fixed(0.5))"
   ]
  },
  {
   "cell_type": "markdown",
   "id": "b9071935-5a7e-4c90-9fbc-61cccc7f46a4",
   "metadata": {},
   "source": [
    "# Training"
   ]
  },
  {
   "cell_type": "code",
   "execution_count": 25,
   "id": "386611f8-326e-47c8-9e6d-5ee6be62ab4c",
   "metadata": {},
   "outputs": [],
   "source": [
    "import tensorflow as tf\n",
    "import numpy as np\n",
    "import matplotlib.pyplot as plt\n",
    "from datetime import datetime\n",
    "from sklearn import preprocessing\n",
    "from keras.callbacks import ModelCheckpoint\n",
    "from keras.models import load_model\n",
    "import pickle\n",
    "\n",
    "from data import InstanceLoader\n",
    "from model import Unet\n",
    "import metrics"
   ]
  },
  {
   "cell_type": "code",
   "execution_count": 26,
   "id": "045a1e46-9e35-4390-899c-518c7617d8cb",
   "metadata": {},
   "outputs": [],
   "source": [
    "instance_dir = 'C:/Users/joao/Desktop/tese/datasets/Pancreatic/Pancreatic-Preprocessed'\n",
    "checkpoint_path = 'C:/Users/joao/Desktop/tese/Projeto/models/'"
   ]
  },
  {
   "cell_type": "code",
   "execution_count": 27,
   "id": "d38bad70-a5d8-41cb-8b84-b81c27f5c920",
   "metadata": {},
   "outputs": [
    {
     "name": "stdout",
     "output_type": "stream",
     "text": [
      "Instance size: 20\n",
      "Train size: 16\n",
      "Test size: 4\n",
      "(128, 128, 32)\n"
     ]
    }
   ],
   "source": [
    "instance_loader = InstanceLoader(instance_dir)\n",
    "instance_shape = instance_loader.shape()\n",
    "print(instance_shape)"
   ]
  },
  {
   "cell_type": "code",
   "execution_count": 28,
   "id": "71b42adf-9804-45f0-ad7d-5b17c8bd4453",
   "metadata": {},
   "outputs": [
    {
     "name": "stdout",
     "output_type": "stream",
     "text": [
      "Preloading cases  16\n",
      "Preloading cases  4\n"
     ]
    }
   ],
   "source": [
    "instance_loader.preload()"
   ]
  },
  {
   "cell_type": "code",
   "execution_count": 35,
   "id": "743c52f5-53bb-421c-b4d7-e34dd960de64",
   "metadata": {},
   "outputs": [],
   "source": [
    "qtd_structures = 2\n",
    "unet = Unet((instance_shape[0], instance_shape[1], instance_shape[2], qtd_structures))\n",
    "unet.compile(optimizer='adam', loss='mae')\n",
    "checkpoint = ModelCheckpoint(checkpoint_path+'checkpoints/', monitor='loss', save_best_only=True, save_weights_only=False)"
   ]
  },
  {
   "cell_type": "code",
   "execution_count": 9,
   "id": "eda20bf1-7157-47ba-afb4-2b91bbb18bfa",
   "metadata": {},
   "outputs": [],
   "source": [
    "unet = tf.keras.models.load_model(checkpoint_path+'model')\n",
    "unet.compile(optimizer='adam', loss='mae')\n",
    "#unet2 = tf.keras.models.load_model(checkpoint_path+'checkpoints/')"
   ]
  },
  {
   "cell_type": "code",
   "execution_count": 36,
   "id": "330ba824-b29a-4679-9acd-3637c9f68e10",
   "metadata": {},
   "outputs": [
    {
     "name": "stdout",
     "output_type": "stream",
     "text": [
      "Model: \"model_1\"\n",
      "__________________________________________________________________________________________________\n",
      " Layer (type)                   Output Shape         Param #     Connected to                     \n",
      "==================================================================================================\n",
      " input_2 (InputLayer)           [(None, 128, 128, 3  0           []                               \n",
      "                                2, 2)]                                                            \n",
      "                                                                                                  \n",
      " conv3d_3 (Conv3D)              (None, 128, 128, 32  28160       ['input_2[0][0]']                \n",
      "                                , 512)                                                            \n",
      "                                                                                                  \n",
      " re_lu_2 (ReLU)                 (None, 128, 128, 32  0           ['conv3d_3[0][0]']               \n",
      "                                , 512)                                                            \n",
      "                                                                                                  \n",
      " max_pooling3d_1 (MaxPooling3D)  (None, 64, 64, 16,   0          ['re_lu_2[0][0]']                \n",
      "                                512)                                                              \n",
      "                                                                                                  \n",
      " up_sampling3d_1 (UpSampling3D)  (None, 128, 128, 32  0          ['max_pooling3d_1[0][0]']        \n",
      "                                , 512)                                                            \n",
      "                                                                                                  \n",
      " tf.concat_1 (TFOpLambda)       (None, 128, 128, 32  0           ['up_sampling3d_1[0][0]',        \n",
      "                                , 1024)                           're_lu_2[0][0]']                \n",
      "                                                                                                  \n",
      " conv3d_4 (Conv3D)              (None, 128, 128, 32  14156288    ['tf.concat_1[0][0]']            \n",
      "                                , 512)                                                            \n",
      "                                                                                                  \n",
      " re_lu_3 (ReLU)                 (None, 128, 128, 32  0           ['conv3d_4[0][0]']               \n",
      "                                , 512)                                                            \n",
      "                                                                                                  \n",
      " conv3d_5 (Conv3D)              (None, 128, 128, 32  513         ['re_lu_3[0][0]']                \n",
      "                                , 1)                                                              \n",
      "                                                                                                  \n",
      "==================================================================================================\n",
      "Total params: 14,184,961\n",
      "Trainable params: 14,184,961\n",
      "Non-trainable params: 0\n",
      "__________________________________________________________________________________________________\n"
     ]
    }
   ],
   "source": [
    "unet.summary()"
   ]
  },
  {
   "cell_type": "code",
   "execution_count": null,
   "id": "23e5229d-d5f7-4f0c-80a1-adf1c4a432e4",
   "metadata": {},
   "outputs": [
    {
     "name": "stdout",
     "output_type": "stream",
     "text": [
      "Epoch 1/10\n"
     ]
    }
   ],
   "source": [
    "epochs = 10\n",
    "batch_size = 4\n",
    "\n",
    "instance_loader.batch(batch_size)\n",
    "t1 = datetime.now()\n",
    "results = unet.fit(instance_loader.trainGen, validation_data=instance_loader.testGen, batch_size=batch_size, epochs=epochs)#, callbacks=[checkpoint])\n",
    "t2 = datetime.now()\n",
    "print('TIME:', (t2-t1))"
   ]
  },
  {
   "cell_type": "code",
   "execution_count": 17,
   "id": "e606802f-846b-4562-9a7b-0829e5cb6475",
   "metadata": {},
   "outputs": [
    {
     "name": "stderr",
     "output_type": "stream",
     "text": [
      "WARNING:absl:Found untraced functions such as _jit_compiled_convolution_op, _jit_compiled_convolution_op, _jit_compiled_convolution_op, _jit_compiled_convolution_op, _jit_compiled_convolution_op while saving (showing 5 of 24). These functions will not be directly callable after loading.\n"
     ]
    },
    {
     "name": "stdout",
     "output_type": "stream",
     "text": [
      "INFO:tensorflow:Assets written to: C:/Users/joao/Desktop/tese/Projeto/models/model\\assets\n"
     ]
    },
    {
     "name": "stderr",
     "output_type": "stream",
     "text": [
      "INFO:tensorflow:Assets written to: C:/Users/joao/Desktop/tese/Projeto/models/model\\assets\n"
     ]
    }
   ],
   "source": [
    "unet.save(checkpoint_path+'model')"
   ]
  },
  {
   "cell_type": "code",
   "execution_count": 55,
   "id": "a6b81148-821e-496e-8dd5-e90029720e0d",
   "metadata": {},
   "outputs": [
    {
     "data": {
      "image/png": "[encoded data removed]",
      "text/plain": [
       "<Figure size 1500x800 with 1 Axes>"
      ]
     },
     "metadata": {},
     "output_type": "display_data"
    }
   ],
   "source": [
    "plt.figure(figsize=(15,8))\n",
    "plt.plot(results.history['loss'], label='loss')\n",
    "#plt.plot(results.history['accuracy'], label='accuracy')\n",
    "plt.legend()\n",
    "plt.show()"
   ]
  },
  {
   "cell_type": "code",
   "execution_count": 32,
   "id": "2c79862e-dfde-4ad2-8357-4aa42e214e0d",
   "metadata": {},
   "outputs": [
    {
     "name": "stdout",
     "output_type": "stream",
     "text": [
      "1/1 [==============================] - 3s 3s/step\n"
     ]
    }
   ],
   "source": [
    "cases, doses = instance_loader.testGen[0]\n",
    "predictions = unet.predict(cases)"
   ]
  },
  {
   "cell_type": "code",
   "execution_count": 34,
   "id": "d0cefaae-59f2-4f3b-b72a-61e0e20daf4b",
   "metadata": {},
   "outputs": [
    {
     "name": "stdout",
     "output_type": "stream",
     "text": [
      "False\n",
      "MAE 0.0042029414\n",
      "CI nan\n",
      "HI nan\n"
     ]
    }
   ],
   "source": [
    "case_index = 0\n",
    "\n",
    "ptv = cases[case_index][:,:,:,1]\n",
    "dose = doses[case_index][:,:,:,0]\n",
    "pred_dose = predictions[case_index][:,:,:,0]\n",
    "\n",
    "print(pred_dose.any())\n",
    "\n",
    "err = tf.keras.losses.MeanAbsoluteError()(doses, predictions).numpy()\n",
    "print('MAE', err)\n",
    "CIndex = metrics.calc_conformity(ptv, pred_dose)\n",
    "print('CI', CIndex)\n",
    "HIndex = metrics.calc_homogeneity(pred_dose)\n",
    "print('HI', HIndex)"
   ]
  },
  {
   "cell_type": "code",
   "execution_count": 58,
   "id": "605c49c2-bc64-495f-91d6-a54caa65246a",
   "metadata": {},
   "outputs": [
    {
     "data": {
      "image/png": "[encoded data removed]",
      "text/plain": [
       "<Figure size 640x480 with 1 Axes>"
      ]
     },
     "metadata": {},
     "output_type": "display_data"
    }
   ],
   "source": [
    "# Plot the DVH\n",
    "dvh_values_truth, dvh_bins_truth = metrics.calc_DVH(dose)\n",
    "dvh_values, dvh_bins = metrics.calc_DVH(pred_dose)\n",
    "\n",
    "plt.plot(dvh_values_truth, dvh_bins_truth, label='truth')\n",
    "plt.plot(dvh_values, dvh_bins, label='predicted', linestyle='dashed')\n",
    "plt.xlabel(\"Dose (Gy)\")\n",
    "plt.ylabel(\"Volume (%)\")\n",
    "plt.title(\"Dose Volume Histogram (DVH)\")\n",
    "plt.legend()\n",
    "plt.show()"
   ]
  },
  {
   "cell_type": "code",
   "execution_count": null,
   "id": "17c454ee-4973-49a5-a152-0d37a3ba5dae",
   "metadata": {},
   "outputs": [],
   "source": [
    "aa = dose[:,:,15]\n",
    "ee = pred_dose[:,:,15]\n",
    "\n",
    "for i in range(aa.shape[0]):\n",
    "    for j in range(aa.shape[1]):\n",
    "        print(str(round(aa[i][j], 1))[2], end='')\n",
    "    print(\"\\n\", end='')\n",
    "print('.')\n",
    "for i in range(aa.shape[0]):\n",
    "    for j in range(aa.shape[1]):\n",
    "        print(str(round(ee[i][j], 1))[2], end='')\n",
    "    print(\"\\n\", end='')"
   ]
  },
  {
   "cell_type": "code",
   "execution_count": 46,
   "id": "3d3f47ad-5209-47a9-bd58-22bd041adfea",
   "metadata": {},
   "outputs": [
    {
     "data": {
      "application/vnd.jupyter.widget-view+json": {
       "model_id": "f0c9818d7e0143be86f82a629935d4aa",
       "version_major": 2,
       "version_minor": 0
      },
      "text/plain": [
       "interactive(children=(IntSlider(value=15, description='x', max=31), Output()), _dom_classes=('widget-interact'…"
      ]
     },
     "metadata": {},
     "output_type": "display_data"
    },
    {
     "data": {
      "text/plain": [
       "<function __main__.f(x, ct, oar, ptv, dose, ct2, oar2, ptv2, dose2, dose_threshold=0, dose_threshold2=0)>"
      ]
     },
     "execution_count": 46,
     "metadata": {},
     "output_type": "execute_result"
    }
   ],
   "source": [
    "ct = cases[case_index][:,:,:,0]\n",
    "\n",
    "biggest = np.max([ct.shape[-1], dose.shape[-1], pred_dose.shape[-1]])\n",
    "\n",
    "interact(f2, x=(0, biggest-1), \n",
    "         ct=fixed(ct), oar=fixed(None), ptv=fixed(ptv), dose=fixed(dose), dose_threshold=fixed(0),\n",
    "         ct2=fixed(ct), oar2=fixed(None), ptv2=fixed(ptv), dose2=fixed(pred_dose), dose_threshold2=fixed(0)\n",
    "        )"
   ]
  }
 ],
 "metadata": {
  "kernelspec": {
   "display_name": "Python 3 (ipykernel)",
   "language": "python",
   "name": "python3"
  },
  "language_info": {
   "codemirror_mode": {
    "name": "ipython",
    "version": 3
   },
   "file_extension": ".py",
   "mimetype": "text/x-python",
   "name": "python",
   "nbconvert_exporter": "python",
   "pygments_lexer": "ipython3",
   "version": "3.9.7"
  }
 },
 "nbformat": 4,
 "nbformat_minor": 5
}
